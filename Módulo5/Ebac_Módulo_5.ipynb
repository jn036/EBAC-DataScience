{
  "nbformat": 4,
  "nbformat_minor": 0,
  "metadata": {
    "colab": {
      "provenance": []
    },
    "kernelspec": {
      "name": "python3",
      "display_name": "Python 3"
    },
    "language_info": {
      "name": "python"
    }
  },
  "cells": [
    {
      "cell_type": "markdown",
      "source": [
        "Calculadora."
      ],
      "metadata": {
        "id": "gTQE5uFq5cXz"
      }
    },
    {
      "cell_type": "code",
      "execution_count": 1,
      "metadata": {
        "colab": {
          "base_uri": "https://localhost:8080/"
        },
        "id": "JuBzEWsqw2r3",
        "outputId": "f36d5ce8-778d-4d9a-cba0-2c1467f47b89"
      },
      "outputs": [
        {
          "output_type": "stream",
          "name": "stdout",
          "text": [
            "Bem-vindo à Calculadora Python!\n",
            "AVISO: Esta calculadora tem um limite máximo de 1000000 para os resultados.\n",
            "\n",
            "Operações disponíveis:\n",
            "1 - Adição (+)\n",
            "2 - Subtração (-)\n",
            "3 - Multiplicação (*)\n",
            "4 - Divisão (/)\n",
            "5 - Sair\n",
            "Escolha uma operação (1/2/3/4/5): 1\n",
            "Digite o primeiro número: 5\n",
            "Digite o segundo número: 234135321\n",
            "AVISO: O resultado 234135326.0 excede o limite máximo de 1000000.\n",
            "\n",
            "Operações disponíveis:\n",
            "1 - Adição (+)\n",
            "2 - Subtração (-)\n",
            "3 - Multiplicação (*)\n",
            "4 - Divisão (/)\n",
            "5 - Sair\n",
            "Escolha uma operação (1/2/3/4/5): 1\n",
            "Digite o primeiro número: 2\n",
            "Digite o segundo número: 4545\n",
            "Resultado: 2.0 + 4545.0 = 4547.0\n",
            "\n",
            "Operações disponíveis:\n",
            "1 - Adição (+)\n",
            "2 - Subtração (-)\n",
            "3 - Multiplicação (*)\n",
            "4 - Divisão (/)\n",
            "5 - Sair\n",
            "Escolha uma operação (1/2/3/4/5): 5\n",
            "Obrigado por usar a calculadora. Até mais!\n"
          ]
        }
      ],
      "source": [
        "# Limite máximo para os resultados\n",
        "LIMITE_MAXIMO = 1000000\n",
        "\n",
        "print(\"Bem-vindo à Calculadora Python!\")\n",
        "print(f\"AVISO: Esta calculadora tem um limite máximo de {LIMITE_MAXIMO} para os resultados.\")\n",
        "\n",
        "continuar = True\n",
        "\n",
        "while continuar:\n",
        "    print(\"\\nOperações disponíveis:\")\n",
        "    print(\"1 - Adição (+)\")\n",
        "    print(\"2 - Subtração (-)\")\n",
        "    print(\"3 - Multiplicação (*)\")\n",
        "    print(\"4 - Divisão (/)\")\n",
        "    print(\"5 - Sair\")\n",
        "\n",
        "    operacao = input(\"Escolha uma operação (1/2/3/4/5): \")\n",
        "\n",
        "    if operacao == '5':\n",
        "        print(\"Obrigado por usar a calculadora. Até mais!\")\n",
        "        continuar = False\n",
        "        continue\n",
        "\n",
        "    if operacao not in ('1', '2', '3', '4'):\n",
        "        print(\"Opção inválida. Por favor, escolha uma operação válida.\")\n",
        "        continue\n",
        "\n",
        "    try:\n",
        "        # Recebe os números do usuário\n",
        "        num1 = float(input(\"Digite o primeiro número: \"))\n",
        "        num2 = float(input(\"Digite o segundo número: \"))\n",
        "\n",
        "        # Realiza a operação selecionada\n",
        "        if operacao == '1':\n",
        "            resultado = num1 + num2\n",
        "            simbolo = '+'\n",
        "        elif operacao == '2':\n",
        "            resultado = num1 - num2\n",
        "            simbolo = '-'\n",
        "        elif operacao == '3':\n",
        "            resultado = num1 * num2\n",
        "            simbolo = '*'\n",
        "        elif operacao == '4':\n",
        "            if num2 == 0:\n",
        "                print(\"Erro: Divisão por zero não é permitida.\")\n",
        "                continue\n",
        "            resultado = num1 / num2\n",
        "            simbolo = '/'\n",
        "\n",
        "        # Verifica se o resultado excede o limite\n",
        "        if abs(resultado) > LIMITE_MAXIMO:\n",
        "            print(f\"AVISO: O resultado {resultado} excede o limite máximo de {LIMITE_MAXIMO}.\")\n",
        "        else:\n",
        "            print(f\"Resultado: {num1} {simbolo} {num2} = {resultado}\")\n",
        "\n",
        "    except ValueError:\n",
        "        print(\"Erro: Por favor, digite números válidos.\")\n",
        "    except Exception as e:\n",
        "        print(f\"Ocorreu um erro inesperado: {e}\")"
      ]
    }
  ]
}